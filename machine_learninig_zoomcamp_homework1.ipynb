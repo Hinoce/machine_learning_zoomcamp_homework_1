{
  "nbformat": 4,
  "nbformat_minor": 0,
  "metadata": {
    "colab": {
      "provenance": [],
      "authorship_tag": "ABX9TyOVV/g8vaD9rRoxpMkpOHaz",
      "include_colab_link": true
    },
    "kernelspec": {
      "name": "python3",
      "display_name": "Python 3"
    },
    "language_info": {
      "name": "python"
    }
  },
  "cells": [
    {
      "cell_type": "markdown",
      "metadata": {
        "id": "view-in-github",
        "colab_type": "text"
      },
      "source": [
        "<a href=\"https://colab.research.google.com/github/Hinoce/machine_learning_zoomcamp_homework_1/blob/main/machine_learninig_zoomcamp_homework1.ipynb\" target=\"_parent\"><img src=\"https://colab.research.google.com/assets/colab-badge.svg\" alt=\"Open In Colab\"/></a>"
      ]
    },
    {
      "cell_type": "code",
      "execution_count": 3,
      "metadata": {
        "id": "sKmnTNiWQH05"
      },
      "outputs": [],
      "source": [
        "import numpy as np\n",
        "import pandas as pd\n",
        "import seaborn as sns\n",
        "import matplotlib.pyplot as plt\n"
      ]
    },
    {
      "cell_type": "markdown",
      "source": [
        "##Question 1"
      ],
      "metadata": {
        "id": "UVqZZLaUbjtm"
      }
    },
    {
      "cell_type": "code",
      "source": [
        "print(pd.__version__)"
      ],
      "metadata": {
        "colab": {
          "base_uri": "https://localhost:8080/"
        },
        "id": "YnornQkuQQd5",
        "outputId": "f35a1fee-a1ef-4c88-8349-38005a79bd32"
      },
      "execution_count": 5,
      "outputs": [
        {
          "output_type": "stream",
          "name": "stdout",
          "text": [
            "2.2.2\n"
          ]
        }
      ]
    },
    {
      "cell_type": "code",
      "source": [
        "!wget https://raw.githubusercontent.com/alexeygrigorev/datasets/master/car_fuel_efficiency.csv"
      ],
      "metadata": {
        "colab": {
          "base_uri": "https://localhost:8080/"
        },
        "id": "lwXye7m-RgB2",
        "outputId": "05db998b-4710-4651-98ea-85667caaf46e"
      },
      "execution_count": 6,
      "outputs": [
        {
          "output_type": "stream",
          "name": "stdout",
          "text": [
            "--2025-10-01 19:37:11--  https://raw.githubusercontent.com/alexeygrigorev/datasets/master/car_fuel_efficiency.csv\n",
            "Resolving raw.githubusercontent.com (raw.githubusercontent.com)... 185.199.108.133, 185.199.109.133, 185.199.110.133, ...\n",
            "Connecting to raw.githubusercontent.com (raw.githubusercontent.com)|185.199.108.133|:443... connected.\n",
            "HTTP request sent, awaiting response... 200 OK\n",
            "Length: 874188 (854K) [text/plain]\n",
            "Saving to: ‘car_fuel_efficiency.csv’\n",
            "\n",
            "\rcar_fuel_efficiency   0%[                    ]       0  --.-KB/s               \rcar_fuel_efficiency 100%[===================>] 853.70K  --.-KB/s    in 0.03s   \n",
            "\n",
            "2025-10-01 19:37:11 (29.6 MB/s) - ‘car_fuel_efficiency.csv’ saved [874188/874188]\n",
            "\n"
          ]
        }
      ]
    },
    {
      "cell_type": "markdown",
      "source": [
        "##Question 2"
      ],
      "metadata": {
        "id": "CVjf7fZzbvYs"
      }
    },
    {
      "cell_type": "code",
      "source": [
        "df=pd.read_csv('car_fuel_efficiency.csv')\n",
        "len(df)"
      ],
      "metadata": {
        "colab": {
          "base_uri": "https://localhost:8080/"
        },
        "id": "YYvX3LrYR1p5",
        "outputId": "8b0ce150-e6ab-4790-9ada-e24dc9016801"
      },
      "execution_count": 9,
      "outputs": [
        {
          "output_type": "execute_result",
          "data": {
            "text/plain": [
              "9704"
            ]
          },
          "metadata": {},
          "execution_count": 9
        }
      ]
    },
    {
      "cell_type": "markdown",
      "source": [
        "##Question 3"
      ],
      "metadata": {
        "id": "VGna59MabzBG"
      }
    },
    {
      "cell_type": "code",
      "source": [
        "print(df.head())"
      ],
      "metadata": {
        "colab": {
          "base_uri": "https://localhost:8080/"
        },
        "id": "bfE0NHR2SLK8",
        "outputId": "bb53d422-dc29-4c31-867e-f9958bdfbf28"
      },
      "execution_count": 10,
      "outputs": [
        {
          "output_type": "stream",
          "name": "stdout",
          "text": [
            "   engine_displacement  num_cylinders  horsepower  vehicle_weight  \\\n",
            "0                  170            3.0       159.0     3413.433759   \n",
            "1                  130            5.0        97.0     3149.664934   \n",
            "2                  170            NaN        78.0     3079.038997   \n",
            "3                  220            4.0         NaN     2542.392402   \n",
            "4                  210            1.0       140.0     3460.870990   \n",
            "\n",
            "   acceleration  model_year  origin fuel_type         drivetrain  num_doors  \\\n",
            "0          17.7        2003  Europe  Gasoline    All-wheel drive        0.0   \n",
            "1          17.8        2007     USA  Gasoline  Front-wheel drive        0.0   \n",
            "2          15.1        2018  Europe  Gasoline  Front-wheel drive        0.0   \n",
            "3          20.2        2009     USA    Diesel    All-wheel drive        2.0   \n",
            "4          14.4        2009  Europe  Gasoline    All-wheel drive        2.0   \n",
            "\n",
            "   fuel_efficiency_mpg  \n",
            "0            13.231729  \n",
            "1            13.688217  \n",
            "2            14.246341  \n",
            "3            16.912736  \n",
            "4            12.488369  \n"
          ]
        }
      ]
    },
    {
      "cell_type": "code",
      "source": [
        "print(df['fuel_type'].unique())"
      ],
      "metadata": {
        "colab": {
          "base_uri": "https://localhost:8080/"
        },
        "id": "iD-n-MtQStqX",
        "outputId": "e9318b56-bf48-4f1e-96e0-6b2aad4e1552"
      },
      "execution_count": 11,
      "outputs": [
        {
          "output_type": "stream",
          "name": "stdout",
          "text": [
            "['Gasoline' 'Diesel']\n"
          ]
        }
      ]
    },
    {
      "cell_type": "markdown",
      "source": [
        "##Question 4"
      ],
      "metadata": {
        "id": "0YXyypLSb4XW"
      }
    },
    {
      "cell_type": "code",
      "source": [
        "print((df.isnull().sum() > 0).sum())"
      ],
      "metadata": {
        "colab": {
          "base_uri": "https://localhost:8080/"
        },
        "id": "uPk0g770TlFI",
        "outputId": "f4886704-ab97-4bed-8343-bb7a7da88746"
      },
      "execution_count": 12,
      "outputs": [
        {
          "output_type": "stream",
          "name": "stdout",
          "text": [
            "4\n"
          ]
        }
      ]
    },
    {
      "cell_type": "markdown",
      "source": [
        "##Question 5"
      ],
      "metadata": {
        "id": "_XzA-nqPb9OI"
      }
    },
    {
      "cell_type": "code",
      "source": [
        "print(df[df['origin'] == 'Asia']['fuel_efficiency_mpg'].max())"
      ],
      "metadata": {
        "colab": {
          "base_uri": "https://localhost:8080/"
        },
        "id": "7gp76mGbT-DB",
        "outputId": "6bf7e4aa-86f6-4e77-f58e-b87644d20ecb"
      },
      "execution_count": 13,
      "outputs": [
        {
          "output_type": "stream",
          "name": "stdout",
          "text": [
            "23.759122836520497\n"
          ]
        }
      ]
    },
    {
      "cell_type": "markdown",
      "source": [
        "##Question 6"
      ],
      "metadata": {
        "id": "_mZQK3fkcAEe"
      }
    },
    {
      "cell_type": "code",
      "source": [
        "# STEP 1: Find the median value of the 'horsepower' column before imputation.\n",
        "# This is done by ignoring NaN values ​​(the default for .median()).\n",
        "median_inicial = df['horsepower'].median()"
      ],
      "metadata": {
        "id": "3GdArRThUlon"
      },
      "execution_count": 14,
      "outputs": []
    },
    {
      "cell_type": "code",
      "source": [
        "# STEP 2: Calculate the most frequent value (the Mode) for the 'horsepower' column.\n",
        "# [0] is used to return the Mode value as a number, not as a Pandas Series.\n",
        "moda = df['horsepower'].mode()[0]"
      ],
      "metadata": {
        "id": "O3AnfsFvV7ic"
      },
      "execution_count": 18,
      "outputs": []
    },
    {
      "cell_type": "code",
      "source": [
        "# STEP 3: Use fillna() to fill missing (NaN) values ​​with the Mode.\n",
        "# The 'inplace=True' argument modifies the DataFrame directly.\n",
        "df['horsepower'] = df['horsepower'].fillna(moda)"
      ],
      "metadata": {
        "id": "zvrL4Dl1V9uP"
      },
      "execution_count": 29,
      "outputs": []
    },
    {
      "cell_type": "code",
      "source": [
        "\n",
        "median_final = df['horsepower'].median()"
      ],
      "metadata": {
        "id": "c8yeyqWUWBbm"
      },
      "execution_count": 30,
      "outputs": []
    },
    {
      "cell_type": "code",
      "source": [
        "print(f\"median_inicial: {median_inicial}\")"
      ],
      "metadata": {
        "colab": {
          "base_uri": "https://localhost:8080/"
        },
        "id": "4VsxBNlBWIFQ",
        "outputId": "bc240eb3-48bf-4e9e-d63d-8f0f113ab7fa"
      },
      "execution_count": 31,
      "outputs": [
        {
          "output_type": "stream",
          "name": "stdout",
          "text": [
            "median_inicial: 149.0\n"
          ]
        }
      ]
    },
    {
      "cell_type": "code",
      "source": [
        "print(f\"Moda utilizada: {moda}\")"
      ],
      "metadata": {
        "colab": {
          "base_uri": "https://localhost:8080/"
        },
        "id": "HBrqsjHpWZP3",
        "outputId": "928ce6b3-5d45-4e37-df9d-da8bfa0b016e"
      },
      "execution_count": 32,
      "outputs": [
        {
          "output_type": "stream",
          "name": "stdout",
          "text": [
            "Moda utilizada: 152.0\n"
          ]
        }
      ]
    },
    {
      "cell_type": "code",
      "source": [
        "print(f\"median_final: {median_final}\")"
      ],
      "metadata": {
        "colab": {
          "base_uri": "https://localhost:8080/"
        },
        "id": "9oknjyCWWcL2",
        "outputId": "c5a908ef-89de-4b2d-b977-91ee77ea5872"
      },
      "execution_count": 33,
      "outputs": [
        {
          "output_type": "stream",
          "name": "stdout",
          "text": [
            "median_final: 152.0\n"
          ]
        }
      ]
    },
    {
      "cell_type": "code",
      "source": [
        "print(f\"Has it changed? {'Yes, it increased.' if median_final > median_inicial else 'Yes, it decreased.' if median_final < median_inicial else 'No'}\")"
      ],
      "metadata": {
        "colab": {
          "base_uri": "https://localhost:8080/"
        },
        "id": "hX-CunjiWe3b",
        "outputId": "6ae939b8-0a4d-42fa-bad3-11e408c515fa"
      },
      "execution_count": 34,
      "outputs": [
        {
          "output_type": "stream",
          "name": "stdout",
          "text": [
            "Has it changed? Yes, it increased.\n"
          ]
        }
      ]
    },
    {
      "cell_type": "markdown",
      "source": [
        "##Question 7"
      ],
      "metadata": {
        "id": "OVXE7l78cGe2"
      }
    },
    {
      "cell_type": "code",
      "source": [
        "\n",
        "# 1. Select all Asian cars and the 'vehicle_weight' and 'model_year' columns.\n",
        "# 2. Select the first 7 values ​​(.head(7)).\n",
        "X = df[df['origin'] == 'Asia'][['vehicle_weight', 'model_year']].head(7)\n",
        "\n",
        "# 3. Get the underlying NumPy array (it's already 'X' in the previous step, but we force .values ​​if necessary).\n",
        "# Although X is a DataFrame, NumPy matrix operations will handle it just fine.\n",
        "# For clarity and matrix rigor, it's better to use .values.\n",
        "X = X.values\n",
        "\n",
        "# 4. Calculate the matrix-matrix multiplication between the transpose of X and X.\n",
        "XTX = X.T @ X\n",
        "# 5. Invert XTX.\n",
        "# Note: The np.linalg.inv function may fail if XTX is not invertible.\n",
        "XTX_inv = np.linalg.inv(XTX)\n",
        "\n",
        "# 6. Create the matrix y with the given values.\n",
        "# It's crucial that 'y' be a NumPy array, preferably a column/vector.\n",
        "y = np.array([1100, 1300, 800, 900, 1000, 1100, 1200]).reshape(-1, 1)\n",
        "\n",
        "# 7. Multiply (inverse of XTX) * (transpose of X) * y.\n",
        "# This is the least squares formula for calculating the 'w' coefficients.\n",
        "w = XTX_inv @ X.T @ y\n",
        "\n",
        "# 8. Get the sum of all the elements of the result 'w'.\n",
        "suma_w = np.sum(w)\n",
        "\n",
        "print(f\"The coefficient matrix w is:\\n{w}\")\n",
        "print(f\"The sum of all elements of w is: {suma_w}\")"
      ],
      "metadata": {
        "colab": {
          "base_uri": "https://localhost:8080/"
        },
        "id": "VLfs7D-0WieH",
        "outputId": "3e73bc0e-d74f-4cf6-8e51-dd89c733fcf2"
      },
      "execution_count": 28,
      "outputs": [
        {
          "output_type": "stream",
          "name": "stdout",
          "text": [
            "The coefficient matrix w is:\n",
            "[[0.01386421]\n",
            " [0.5049067 ]]\n",
            "The sum of all elements of w is: 0.5187709081074016\n"
          ]
        }
      ]
    },
    {
      "cell_type": "code",
      "source": [],
      "metadata": {
        "id": "e2AuJO9iXRRJ"
      },
      "execution_count": null,
      "outputs": []
    }
  ]
}